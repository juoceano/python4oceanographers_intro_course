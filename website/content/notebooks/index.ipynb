{
 "cells": [
  {
   "cell_type": "markdown",
   "metadata": {},
   "source": [
    "# Universidade Federal da Bahia\n",
    "\n",
    "- *Filipe Fernandes*\n",
    "- *Fevereiro xx-xx, 2015*\n",
    "\n",
    "Esse \u00e9 o material para um curso de Introdu\u00e7\u00e3o \u00e0 linguagem de programa\u00e7\u00e3o Python de 2 dias."
   ]
  },
  {
   "cell_type": "markdown",
   "metadata": {},
   "source": [
    "## Programa\n",
    "\n",
    "### Dia 1\n",
    " - [Introdu\u00e7\u00e3o](lecture_01.ipynb)\n",
    " - [Sintaxe e Data Types](lecture_01.ipynb)\n",
    " - [NumPy Arrays](lecture_01.ipynb)\n",
    "\n",
    "### Dia 2\n",
    " - [Plotando com Matplolib](lecture_02.ipynb)\n",
    " - [Lendo dados oceanogr\u00e1ficos (netCDF, OPeNDAP, ERDDAP etc)](lecture_02.ipynb)\n",
    " - [S\u00e9ries temporais com pandas](lecture_02.ipynb)\n"
   ]
  }
 ],
 "metadata": {
  "kernelspec": {
   "display_name": "IPython (Python 3)",
   "name": "python3"
  },
  "language_info": {
   "codemirror_mode": {
    "name": "ipython",
    "version": 3
   },
   "file_extension": ".py",
   "mimetype": "text/x-python",
   "name": "python",
   "nbconvert_exporter": "python",
   "pygments_lexer": "ipython3",
   "version": "3.4.1"
  },
  "signature": "sha256:3d5685642b59570fb1307d377dbed03160f0e6dd109e50e02229251d378fa4d0"
 },
 "nbformat": 4,
 "nbformat_minor": 0
}