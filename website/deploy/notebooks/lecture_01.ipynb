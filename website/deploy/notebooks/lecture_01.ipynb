{
 "cells": [
  {
   "cell_type": "markdown",
   "metadata": {
    "slideshow": {
     "slide_type": "slide"
    }
   },
   "source": [
    "# Introdu\u00e7\u00e3o \u00e0 linguagem de programa\u00e7\u00e3o [Python](https://www.python.org/)\n",
    "\n",
    "## Aula 01 - O que \u00e9 Python?\n",
    "\n",
    "**Objetivos**\n",
    "\n",
    "- Introdu\u00e7\u00e3o \u00e0 linguagem de programa\u00e7\u00e3o Python.\n",
    "- Exemplos do seu uso para an\u00e1lise explorat\u00f3ria de dados.\n",
    "- Utilizar python com uma linguagem \"cola.\""
   ]
  },
  {
   "cell_type": "markdown",
   "metadata": {
    "slideshow": {
     "slide_type": "slide"
    }
   },
   "source": [
    "- A linguagem Python \u00e9:\n",
    "  - interpretada (n\u00e3o compilada)\n",
    "  - \"Dynamically Typed\" (n\u00e3o statically-typed)\n",
    "  - Orientada \u00e0 `Objetos` e/ou `Funcional`\n",
    "  - Licen\u00e7a Livre"
   ]
  },
  {
   "cell_type": "markdown",
   "metadata": {
    "slideshow": {
     "slide_type": "slide"
    }
   },
   "source": [
    "Instalando python o seu computador (Canopy, EPD, spyder, etc):\n",
    "\n",
    "```bash\n",
    "URL=http://repo.continuum.io/miniconda/Miniconda-latest-Linux-x86_64.sh\n",
    "wget $URL -O miniconda.sh\n",
    "bash miniconda.sh -b -p $HOME/miniconda\n",
    "export PATH=\"$HOME/miniconda/bin:$PATH\"\n",
    "conda update conda\n",
    "conda config --add channels https://conda.binstar.org/ocefpaf\n",
    "conda info -a\n",
    "```"
   ]
  },
  {
   "cell_type": "markdown",
   "metadata": {
    "slideshow": {
     "slide_type": "slide"
    }
   },
   "source": [
    "- Scientific:\n",
    "    - [Matplotlib](http://matplotlib.sourceforge.net)\n",
    "    - [NumPy](http://docs.scipy.org/doc/numpy/reference)\n",
    "    - [SciPy](http://docs.scipy.org/doc/scipy/reference)\n",
    "    - [IPython](http://ipython.org/)\n",
    "\n",
    "- Oceanography\n",
    "    - [gsw](https://pypi.python.org/pypi/gsw/)\n",
    "    - [seawater](https://pypi.python.org/pypi/seawater/)\n",
    "    - [airsea](https://pypi.python.org/pypi/airsea/0.0.1)\n",
    "    - [oceans](https://pypi.python.org/pypi/oceans)\n",
    "    - [ctd](https://pypi.python.org/pypi/ctd)\n",
    "    - [iris](http://scitools.org.uk/iris/docs/latest/index.html)\n",
    "    - [cartopy](http://scitools.org.uk/cartopy/docs/latest/index.html)"
   ]
  },
  {
   "cell_type": "markdown",
   "metadata": {
    "slideshow": {
     "slide_type": "slide"
    }
   },
   "source": [
    "- Ajuda extra:\n",
    "    - [PyAOS](http://pyaos.johnny-lin.com)\n",
    "    - [python4oceanographers](http://ocefpaf.github.io/python4oceanographers/)\n",
    "    - [earthpy](http://earthpy.org/)\n",
    "    - [Sotware Carpentry](http://software-carpentry.org/index.html)\n",
    "    - [matlab-numpy](http://mathesaurus.sourceforge.net/matlab-numpy.html)"
   ]
  },
  {
   "cell_type": "markdown",
   "metadata": {
    "slideshow": {
     "slide_type": "slide"
    }
   },
   "source": [
    "## Tipos de objetos"
   ]
  },
  {
   "cell_type": "code",
   "execution_count": null,
   "metadata": {
    "collapsed": false,
    "slideshow": {
     "slide_type": "fragment"
    }
   },
   "outputs": [],
   "source": [
    "Sal, Temp = 35.1, 17 # Salinidade e Temperature\n",
    "\n",
    "print(type(Sal))\n",
    "print(type(Temp))"
   ]
  },
  {
   "cell_type": "code",
   "execution_count": null,
   "metadata": {
    "collapsed": false,
    "slideshow": {
     "slide_type": "fragment"
    }
   },
   "outputs": [],
   "source": [
    "u, v = 5., -5.\n",
    "U = u + 1j*v\n",
    "\n",
    "print(type(U))\n",
    "print('OO em a\u00e7\u00e3o mostrando n\u00fameros reais {0} e imagin\u00e1rios {1}'.format(U.real, U.imag))\n",
    "\n",
    "# Desafio: Calcular o vetor \u00e9 o \u00e2ngulo formado por u+iv."
   ]
  },
  {
   "cell_type": "code",
   "execution_count": null,
   "metadata": {
    "collapsed": false,
    "slideshow": {
     "slide_type": "subslide"
    }
   },
   "outputs": [],
   "source": [
    "import numpy as np\n",
    "\n",
    "np.abs(U), np.rad2deg(np.angle(U))"
   ]
  },
  {
   "cell_type": "code",
   "execution_count": null,
   "metadata": {
    "collapsed": false,
    "slideshow": {
     "slide_type": "fragment"
    }
   },
   "outputs": [],
   "source": [
    "Sal = (35.0, 35, '35')\n",
    "Temp = [17.0, 17, '17']\n",
    "\n",
    "print(type(Sal))\n",
    "print(type(Temp))"
   ]
  },
  {
   "cell_type": "code",
   "execution_count": null,
   "metadata": {
    "collapsed": false,
    "slideshow": {
     "slide_type": "fragment"
    }
   },
   "outputs": [],
   "source": [
    "np.array(Temp)"
   ]
  },
  {
   "cell_type": "code",
   "execution_count": null,
   "metadata": {
    "collapsed": false,
    "slideshow": {
     "slide_type": "fragment"
    }
   },
   "outputs": [],
   "source": [
    "np.array(Temp, dtype=np.float)"
   ]
  },
  {
   "cell_type": "code",
   "execution_count": null,
   "metadata": {
    "collapsed": false,
    "slideshow": {
     "slide_type": "fragment"
    }
   },
   "outputs": [],
   "source": [
    "if not False:\n",
    "    print(type(True))"
   ]
  },
  {
   "cell_type": "code",
   "execution_count": null,
   "metadata": {
    "collapsed": false,
    "slideshow": {
     "slide_type": "fragment"
    }
   },
   "outputs": [],
   "source": [
    "True == 1"
   ]
  },
  {
   "cell_type": "code",
   "execution_count": null,
   "metadata": {
    "collapsed": false,
    "slideshow": {
     "slide_type": "fragment"
    }
   },
   "outputs": [],
   "source": [
    "True == 2"
   ]
  },
  {
   "cell_type": "code",
   "execution_count": null,
   "metadata": {
    "collapsed": false,
    "slideshow": {
     "slide_type": "fragment"
    }
   },
   "outputs": [],
   "source": [
    "False == 1"
   ]
  },
  {
   "cell_type": "code",
   "execution_count": null,
   "metadata": {
    "collapsed": false,
    "slideshow": {
     "slide_type": "fragment"
    }
   },
   "outputs": [],
   "source": [
    "False == 0"
   ]
  },
  {
   "cell_type": "code",
   "execution_count": null,
   "metadata": {
    "collapsed": false,
    "slideshow": {
     "slide_type": "fragment"
    }
   },
   "outputs": [],
   "source": [
    "ctd = dict(S=[35.5, 34.76, 33.2],\n",
    "           T=[17.4, 18.9, 19.5])\n",
    "\n",
    "type(ctd)\n",
    "print(ctd['S'])"
   ]
  },
  {
   "cell_type": "code",
   "execution_count": null,
   "metadata": {
    "collapsed": false,
    "slideshow": {
     "slide_type": "fragment"
    }
   },
   "outputs": [],
   "source": [
    "set(['joseph', 'maria', 'pedro', 'maria'])"
   ]
  },
  {
   "cell_type": "markdown",
   "metadata": {
    "slideshow": {
     "slide_type": "slide"
    }
   },
   "source": [
    "## Strings"
   ]
  },
  {
   "cell_type": "code",
   "execution_count": null,
   "metadata": {
    "collapsed": false,
    "slideshow": {
     "slide_type": "fragment"
    }
   },
   "outputs": [],
   "source": [
    "print('Texto simples com \"aspas\" duplas.\\n')\n",
    "\n",
    "print(\"'Texto simples com 'aspas' simples.\\n\")\n",
    "\n",
    "print(\"\"\"Texto complexo com quebra\n",
    "de linha, aspas \"duplas\" e 'simples'.\\n\"\"\")\n",
    "\n",
    "print(r\"Texto \\n 'cru', ideal para Latex $^\\circ$.\")"
   ]
  },
  {
   "cell_type": "code",
   "execution_count": null,
   "metadata": {
    "collapsed": false,
    "slideshow": {
     "slide_type": "fragment"
    }
   },
   "outputs": [],
   "source": [
    "print('O valor de pi \u00e9 {:.2f}'.format(np.pi))\n",
    "print('O valor de pi \u00e9 {:.6f}'.format(np.pi))\n",
    "print('O valor de 10 x pi \u00e9 {:0.2e}'.format(10*np.pi))"
   ]
  },
  {
   "cell_type": "code",
   "execution_count": null,
   "metadata": {
    "collapsed": false,
    "slideshow": {
     "slide_type": "fragment"
    }
   },
   "outputs": [],
   "source": [
    "T = [17.4, 18.9, 19.5, 22.1, 23.2]\n",
    "T[0], T[-1], T[::-1], T[::2]"
   ]
  },
  {
   "cell_type": "code",
   "execution_count": null,
   "metadata": {
    "collapsed": false,
    "slideshow": {
     "slide_type": "fragment"
    }
   },
   "outputs": [],
   "source": [
    "T[1:3]"
   ]
  },
  {
   "cell_type": "code",
   "execution_count": null,
   "metadata": {
    "collapsed": false,
    "slideshow": {
     "slide_type": "fragment"
    }
   },
   "outputs": [],
   "source": [
    "T[2:]"
   ]
  },
  {
   "cell_type": "code",
   "execution_count": null,
   "metadata": {
    "collapsed": false,
    "slideshow": {
     "slide_type": "fragment"
    }
   },
   "outputs": [],
   "source": [
    "try:\n",
    "    T + 2\n",
    "except TypeError as e:\n",
    "    print(e)"
   ]
  },
  {
   "cell_type": "code",
   "execution_count": null,
   "metadata": {
    "collapsed": false,
    "slideshow": {
     "slide_type": "fragment"
    }
   },
   "outputs": [],
   "source": [
    "np.array(T) + 2"
   ]
  },
  {
   "cell_type": "markdown",
   "metadata": {
    "slideshow": {
     "slide_type": "fragment"
    }
   },
   "source": [
    "Alguns m\u00e9todos de listas:\n",
    "    - `.append`\n",
    "    - `.extend`\n",
    "    - `.sort`\n",
    "    - `.remove`\n",
    "    - `.reverse`\n",
    "    - `.insert`"
   ]
  },
  {
   "cell_type": "code",
   "execution_count": null,
   "metadata": {
    "collapsed": false,
    "slideshow": {
     "slide_type": "fragment"
    }
   },
   "outputs": [],
   "source": [
    "lista = list(range(10))\n",
    "print(lista)\n",
    "\n",
    "lista.append(10)\n",
    "print(lista)\n",
    "\n",
    "lista.insert(4, 11)\n",
    "print(lista)\n",
    "\n",
    "lista.sort()\n",
    "print(lista)\n",
    "\n",
    "lista.extend(lista)\n",
    "print(lista)"
   ]
  },
  {
   "cell_type": "code",
   "execution_count": null,
   "metadata": {
    "collapsed": false,
    "slideshow": {
     "slide_type": "fragment"
    }
   },
   "outputs": [],
   "source": [
    "ctd = dict(S=[35.5, 34.76, 33.2],\n",
    "           T=[17.4, 18.9, 19.5],\n",
    "           AOU=[320, 330, 350])\n",
    "\n",
    "ctd.keys(), ctd.values()"
   ]
  },
  {
   "cell_type": "markdown",
   "metadata": {
    "slideshow": {
     "slide_type": "slide"
    }
   },
   "source": [
    "### Namespaces\n",
    "\n",
    "**Direto da wikipedia:**\n",
    "\n",
    "*A namespace (sometimes also called a name scope) is an abstract container or\n",
    "environment created to hold a logical grouping of unique identifiers or symbols\n",
    "(i.e., names).*\n",
    "\n",
    "**O que interessa para n\u00f3s?**\n",
    "\n",
    "- Namespaces mant\u00e9m o c\u00f3digo organizado.\n",
    "- Evita conflitos gerados por fun\u00e7\u00f5es de mesmo nome.\n",
    "- Torna o c\u00f3digo \"declarativo\" e consequentemente mais leg\u00edvel."
   ]
  },
  {
   "cell_type": "markdown",
   "metadata": {
    "slideshow": {
     "slide_type": "slide"
    }
   },
   "source": [
    "**Matlab vs Python (Namespaces)**\n",
    "\n",
    "Matlab:\n",
    "\n",
    "```matlab\n",
    "w1 = window(@gausswin, N, 2.5)\n",
    "% Opa! O resultados \u00e9 diferente do que eu esperava. Argh, a minha fun\u00e7\u00e3o\n",
    "% window est\u00e1 abaixo da original do Matlab no \"path\".\n",
    "```\n",
    "\n",
    "Python:\n",
    "\n",
    "```python\n",
    "from oceans.timeseries import window\n",
    "w1 = window(N, 2.5, type='gausswin')\n",
    "# Sem d\u00favida essa era a que eu queria!\n",
    "```"
   ]
  },
  {
   "cell_type": "code",
   "execution_count": null,
   "metadata": {
    "collapsed": false,
    "slideshow": {
     "slide_type": "slide"
    }
   },
   "outputs": [],
   "source": [
    "import this"
   ]
  },
  {
   "cell_type": "code",
   "execution_count": null,
   "metadata": {
    "collapsed": false
   },
   "outputs": [],
   "source": [
    "%matplotlib inline\n",
    "from pylab import *\n",
    "\n",
    "plot([1, 2, 3], 'k--')\n",
    "xlabel(\"1, 2, 3\")\n",
    "ylabel(u\"Contando 1, 2, 3\")\n",
    "title(r\"Nosso primeiro plot!\")\n",
    "gcf().set_size_inches(6, 5)\n",
    "savefig('line.svg')"
   ]
  }
 ],
 "metadata": {
  "celltoolbar": "Slideshow",
  "kernelspec": {
   "display_name": "IPython (Python 3)",
   "name": "python3"
  },
  "language_info": {
   "codemirror_mode": {
    "name": "ipython",
    "version": 3
   },
   "file_extension": ".py",
   "mimetype": "text/x-python",
   "name": "python",
   "nbconvert_exporter": "python",
   "pygments_lexer": "ipython3",
   "version": "3.4.1"
  },
  "signature": "sha256:4cbb28a55d1653c045b79d2cdf494dccefc3c8dc6acc6006851556efb9aefa7e"
 },
 "nbformat": 4,
 "nbformat_minor": 0
}